{
  "nbformat": 4,
  "nbformat_minor": 0,
  "metadata": {
    "colab": {
      "provenance": [],
      "mount_file_id": "1ZYrgVkInTOGmLgdhAeCZPmYqalIC27YA",
      "authorship_tag": "ABX9TyMsQhzjnJxWr6AEEarHc/xi",
      "include_colab_link": true
    },
    "kernelspec": {
      "name": "python3",
      "display_name": "Python 3"
    },
    "language_info": {
      "name": "python"
    }
  },
  "cells": [
    {
      "cell_type": "markdown",
      "metadata": {
        "id": "view-in-github",
        "colab_type": "text"
      },
      "source": [
        "<a href=\"https://colab.research.google.com/github/Jigyass/Data-Privacy-and-Data-Security-Models/blob/main/Data_Anonymization/k_anonymity_and_l_diversity.ipynb\" target=\"_parent\"><img src=\"https://colab.research.google.com/assets/colab-badge.svg\" alt=\"Open In Colab\"/></a>"
      ]
    },
    {
      "cell_type": "code",
      "source": [
        "!unzip /content/drive/MyDrive/Data_Privacy_and_Data_Security/adult.zip\n"
      ],
      "metadata": {
        "colab": {
          "base_uri": "https://localhost:8080/"
        },
        "id": "Ev7XpR5Wn5AH",
        "outputId": "9fe90e5b-e382-4aaa-cdbd-f027ce914d93"
      },
      "execution_count": null,
      "outputs": [
        {
          "output_type": "stream",
          "name": "stdout",
          "text": [
            "Archive:  /content/drive/MyDrive/Data_Privacy_and_Data_Security/adult.zip\n",
            "replace Index? [y]es, [n]o, [A]ll, [N]one, [r]ename: A\n",
            "  inflating: Index                   \n",
            "  inflating: adult.data              \n",
            "  inflating: adult.names             \n",
            "  inflating: adult.test              \n",
            "  inflating: old.adult.names         \n"
          ]
        }
      ]
    },
    {
      "cell_type": "code",
      "source": [
        "import pandas as pd\n",
        "\n",
        "# Load the 'adult.data' file from the extracted dataset\n",
        "df = pd.read_csv('adult.data')\n",
        "\n",
        "# Display the first few rows of the DataFrame to verify\n",
        "#df.head(50)\n"
      ],
      "metadata": {
        "id": "-zyowqs6oRJ_"
      },
      "execution_count": null,
      "outputs": []
    },
    {
      "cell_type": "code",
      "source": [
        "df.columns = ['Age', '2', '3', 'Education', '5', 'Marital-Status', 'Occupation', '8', 'Race', '10', '11', '12', '13', '14', '15']"
      ],
      "metadata": {
        "id": "QFFeS3BGsfvj"
      },
      "execution_count": null,
      "outputs": []
    },
    {
      "cell_type": "code",
      "source": [
        "unique_values_education = df['Education'].unique()\n",
        "\n",
        "print(unique_values_education)"
      ],
      "metadata": {
        "colab": {
          "base_uri": "https://localhost:8080/"
        },
        "id": "JJNLmAbaoJLI",
        "outputId": "bfb4de25-fc24-4685-d976-91ee4dfbde47"
      },
      "execution_count": null,
      "outputs": [
        {
          "output_type": "stream",
          "name": "stdout",
          "text": [
            "[' Bachelors' ' HS-grad' ' 11th' ' Masters' ' 9th' ' Some-college'\n",
            " ' Assoc-acdm' ' Assoc-voc' ' 7th-8th' ' Doctorate' ' Prof-school'\n",
            " ' 5th-6th' ' 10th' ' 1st-4th' ' Preschool' ' 12th']\n"
          ]
        }
      ]
    },
    {
      "cell_type": "code",
      "source": [
        "unique_values_Marital = df['Marital-Status'].unique()\n",
        "\n",
        "print(unique_values_Marital)"
      ],
      "metadata": {
        "colab": {
          "base_uri": "https://localhost:8080/"
        },
        "id": "byflcrBDpaog",
        "outputId": "f73305a7-eb0c-45cd-c013-486bfb405b34"
      },
      "execution_count": null,
      "outputs": [
        {
          "output_type": "stream",
          "name": "stdout",
          "text": [
            "[' Married-civ-spouse' ' Divorced' ' Married-spouse-absent'\n",
            " ' Never-married' ' Separated' ' Married-AF-spouse' ' Widowed']\n"
          ]
        }
      ]
    },
    {
      "cell_type": "code",
      "source": [
        "unique_values_race = df['Race'].unique()\n",
        "\n",
        "print(unique_values_race)"
      ],
      "metadata": {
        "colab": {
          "base_uri": "https://localhost:8080/"
        },
        "id": "1HO14YLjpirO",
        "outputId": "1c55778b-23a2-4aa1-e574-8b05799586c8"
      },
      "execution_count": null,
      "outputs": [
        {
          "output_type": "stream",
          "name": "stdout",
          "text": [
            "[' White' ' Black' ' Asian-Pac-Islander' ' Amer-Indian-Eskimo' ' Other']\n"
          ]
        }
      ]
    },
    {
      "cell_type": "code",
      "source": [
        "#Create the Generalization Logic for creating a k-anonymous dataset\n",
        "def generalize_age(age):\n",
        "    if age <= 10:\n",
        "        return '0-10'\n",
        "    elif age <= 20:\n",
        "        return '10-20'\n",
        "    elif age <= 30:\n",
        "        return '20-30'\n",
        "    elif age <= 40:\n",
        "      return '30-40'\n",
        "    elif age <= 50:\n",
        "      return '40=50'\n",
        "    elif age <= 64:\n",
        "      return '50-64'\n",
        "    else:\n",
        "        return '65-max'\n",
        "\n",
        "\n",
        "def generalize_education(education):\n",
        "    if education in [' 1st-4th', ' 5th-6th', ' 7th-8th', ' Preschool']:\n",
        "        return 'Elementary'\n",
        "    elif education in [' HS-grad', ' 11th', ' 12th', ' 9th', ' 10th']:\n",
        "        return 'High School'\n",
        "    elif education in [' Prof-school', ' Assoc-voc']:\n",
        "      return 'Trade School'\n",
        "    else:\n",
        "        return 'University Education'\n",
        "\n",
        "def generalize_marital_status(status):\n",
        "    if status in [' Married-civ-spouse', ' Married-AF-spouse']:\n",
        "        return 'Married'\n",
        "    elif status in [' Divorced', ' Separated', ' Widowed', ' Married-spouse-absent']:\n",
        "        return 'Unmarried'\n",
        "    else:\n",
        "        return 'Single'\n",
        "\n",
        "def generalize_race(race):\n",
        "    major_races = [' White', ' Black', ' Asian-Pac-Islander', ' Amer-Indian-Eskimo']\n",
        "    if race in major_races:\n",
        "        return 'Major Races'\n",
        "    else:\n",
        "        return 'Other'\n",
        "\n",
        "\n",
        "df['Education'] = df['Education'].apply(generalize_education)\n",
        "df['Marital-Status'] = df['Marital-Status'].apply(generalize_marital_status)\n",
        "df['Race'] = df['Race'].apply(generalize_race)\n",
        "df['Age'] = df['Age'].apply(generalize_age)"
      ],
      "metadata": {
        "id": "cyJOHbYNpv3-"
      },
      "execution_count": null,
      "outputs": []
    },
    {
      "cell_type": "code",
      "source": [
        "#AT THIS POINT OUR GENERALIZATION IS DONE\n",
        "df.head()"
      ],
      "metadata": {
        "colab": {
          "base_uri": "https://localhost:8080/",
          "height": 206
        },
        "id": "GnwiHM6SqpLf",
        "outputId": "b315616c-3600-4300-94e1-d4d2482c81f6"
      },
      "execution_count": null,
      "outputs": [
        {
          "output_type": "execute_result",
          "data": {
            "text/plain": [
              "     Age                  2       3             Education   5 Marital-Status  \\\n",
              "0  40=50   Self-emp-not-inc   83311  University Education  13        Married   \n",
              "1  30-40            Private  215646           High School   9      Unmarried   \n",
              "2  50-64            Private  234721           High School   7        Married   \n",
              "3  20-30            Private  338409  University Education  13        Married   \n",
              "4  30-40            Private  284582  University Education  14        Married   \n",
              "\n",
              "           Occupation               8         Race       10  11  12  13  \\\n",
              "0     Exec-managerial         Husband  Major Races     Male   0   0  13   \n",
              "1   Handlers-cleaners   Not-in-family  Major Races     Male   0   0  40   \n",
              "2   Handlers-cleaners         Husband  Major Races     Male   0   0  40   \n",
              "3      Prof-specialty            Wife  Major Races   Female   0   0  40   \n",
              "4     Exec-managerial            Wife  Major Races   Female   0   0  40   \n",
              "\n",
              "               14      15  \n",
              "0   United-States   <=50K  \n",
              "1   United-States   <=50K  \n",
              "2   United-States   <=50K  \n",
              "3            Cuba   <=50K  \n",
              "4   United-States   <=50K  "
            ],
            "text/html": [
              "\n",
              "  <div id=\"df-04c24bd6-8962-4a1c-9b97-90cc385618a0\" class=\"colab-df-container\">\n",
              "    <div>\n",
              "<style scoped>\n",
              "    .dataframe tbody tr th:only-of-type {\n",
              "        vertical-align: middle;\n",
              "    }\n",
              "\n",
              "    .dataframe tbody tr th {\n",
              "        vertical-align: top;\n",
              "    }\n",
              "\n",
              "    .dataframe thead th {\n",
              "        text-align: right;\n",
              "    }\n",
              "</style>\n",
              "<table border=\"1\" class=\"dataframe\">\n",
              "  <thead>\n",
              "    <tr style=\"text-align: right;\">\n",
              "      <th></th>\n",
              "      <th>Age</th>\n",
              "      <th>2</th>\n",
              "      <th>3</th>\n",
              "      <th>Education</th>\n",
              "      <th>5</th>\n",
              "      <th>Marital-Status</th>\n",
              "      <th>Occupation</th>\n",
              "      <th>8</th>\n",
              "      <th>Race</th>\n",
              "      <th>10</th>\n",
              "      <th>11</th>\n",
              "      <th>12</th>\n",
              "      <th>13</th>\n",
              "      <th>14</th>\n",
              "      <th>15</th>\n",
              "    </tr>\n",
              "  </thead>\n",
              "  <tbody>\n",
              "    <tr>\n",
              "      <th>0</th>\n",
              "      <td>40=50</td>\n",
              "      <td>Self-emp-not-inc</td>\n",
              "      <td>83311</td>\n",
              "      <td>University Education</td>\n",
              "      <td>13</td>\n",
              "      <td>Married</td>\n",
              "      <td>Exec-managerial</td>\n",
              "      <td>Husband</td>\n",
              "      <td>Major Races</td>\n",
              "      <td>Male</td>\n",
              "      <td>0</td>\n",
              "      <td>0</td>\n",
              "      <td>13</td>\n",
              "      <td>United-States</td>\n",
              "      <td>&lt;=50K</td>\n",
              "    </tr>\n",
              "    <tr>\n",
              "      <th>1</th>\n",
              "      <td>30-40</td>\n",
              "      <td>Private</td>\n",
              "      <td>215646</td>\n",
              "      <td>High School</td>\n",
              "      <td>9</td>\n",
              "      <td>Unmarried</td>\n",
              "      <td>Handlers-cleaners</td>\n",
              "      <td>Not-in-family</td>\n",
              "      <td>Major Races</td>\n",
              "      <td>Male</td>\n",
              "      <td>0</td>\n",
              "      <td>0</td>\n",
              "      <td>40</td>\n",
              "      <td>United-States</td>\n",
              "      <td>&lt;=50K</td>\n",
              "    </tr>\n",
              "    <tr>\n",
              "      <th>2</th>\n",
              "      <td>50-64</td>\n",
              "      <td>Private</td>\n",
              "      <td>234721</td>\n",
              "      <td>High School</td>\n",
              "      <td>7</td>\n",
              "      <td>Married</td>\n",
              "      <td>Handlers-cleaners</td>\n",
              "      <td>Husband</td>\n",
              "      <td>Major Races</td>\n",
              "      <td>Male</td>\n",
              "      <td>0</td>\n",
              "      <td>0</td>\n",
              "      <td>40</td>\n",
              "      <td>United-States</td>\n",
              "      <td>&lt;=50K</td>\n",
              "    </tr>\n",
              "    <tr>\n",
              "      <th>3</th>\n",
              "      <td>20-30</td>\n",
              "      <td>Private</td>\n",
              "      <td>338409</td>\n",
              "      <td>University Education</td>\n",
              "      <td>13</td>\n",
              "      <td>Married</td>\n",
              "      <td>Prof-specialty</td>\n",
              "      <td>Wife</td>\n",
              "      <td>Major Races</td>\n",
              "      <td>Female</td>\n",
              "      <td>0</td>\n",
              "      <td>0</td>\n",
              "      <td>40</td>\n",
              "      <td>Cuba</td>\n",
              "      <td>&lt;=50K</td>\n",
              "    </tr>\n",
              "    <tr>\n",
              "      <th>4</th>\n",
              "      <td>30-40</td>\n",
              "      <td>Private</td>\n",
              "      <td>284582</td>\n",
              "      <td>University Education</td>\n",
              "      <td>14</td>\n",
              "      <td>Married</td>\n",
              "      <td>Exec-managerial</td>\n",
              "      <td>Wife</td>\n",
              "      <td>Major Races</td>\n",
              "      <td>Female</td>\n",
              "      <td>0</td>\n",
              "      <td>0</td>\n",
              "      <td>40</td>\n",
              "      <td>United-States</td>\n",
              "      <td>&lt;=50K</td>\n",
              "    </tr>\n",
              "  </tbody>\n",
              "</table>\n",
              "</div>\n",
              "    <div class=\"colab-df-buttons\">\n",
              "\n",
              "  <div class=\"colab-df-container\">\n",
              "    <button class=\"colab-df-convert\" onclick=\"convertToInteractive('df-04c24bd6-8962-4a1c-9b97-90cc385618a0')\"\n",
              "            title=\"Convert this dataframe to an interactive table.\"\n",
              "            style=\"display:none;\">\n",
              "\n",
              "  <svg xmlns=\"http://www.w3.org/2000/svg\" height=\"24px\" viewBox=\"0 -960 960 960\">\n",
              "    <path d=\"M120-120v-720h720v720H120Zm60-500h600v-160H180v160Zm220 220h160v-160H400v160Zm0 220h160v-160H400v160ZM180-400h160v-160H180v160Zm440 0h160v-160H620v160ZM180-180h160v-160H180v160Zm440 0h160v-160H620v160Z\"/>\n",
              "  </svg>\n",
              "    </button>\n",
              "\n",
              "  <style>\n",
              "    .colab-df-container {\n",
              "      display:flex;\n",
              "      gap: 12px;\n",
              "    }\n",
              "\n",
              "    .colab-df-convert {\n",
              "      background-color: #E8F0FE;\n",
              "      border: none;\n",
              "      border-radius: 50%;\n",
              "      cursor: pointer;\n",
              "      display: none;\n",
              "      fill: #1967D2;\n",
              "      height: 32px;\n",
              "      padding: 0 0 0 0;\n",
              "      width: 32px;\n",
              "    }\n",
              "\n",
              "    .colab-df-convert:hover {\n",
              "      background-color: #E2EBFA;\n",
              "      box-shadow: 0px 1px 2px rgba(60, 64, 67, 0.3), 0px 1px 3px 1px rgba(60, 64, 67, 0.15);\n",
              "      fill: #174EA6;\n",
              "    }\n",
              "\n",
              "    .colab-df-buttons div {\n",
              "      margin-bottom: 4px;\n",
              "    }\n",
              "\n",
              "    [theme=dark] .colab-df-convert {\n",
              "      background-color: #3B4455;\n",
              "      fill: #D2E3FC;\n",
              "    }\n",
              "\n",
              "    [theme=dark] .colab-df-convert:hover {\n",
              "      background-color: #434B5C;\n",
              "      box-shadow: 0px 1px 3px 1px rgba(0, 0, 0, 0.15);\n",
              "      filter: drop-shadow(0px 1px 2px rgba(0, 0, 0, 0.3));\n",
              "      fill: #FFFFFF;\n",
              "    }\n",
              "  </style>\n",
              "\n",
              "    <script>\n",
              "      const buttonEl =\n",
              "        document.querySelector('#df-04c24bd6-8962-4a1c-9b97-90cc385618a0 button.colab-df-convert');\n",
              "      buttonEl.style.display =\n",
              "        google.colab.kernel.accessAllowed ? 'block' : 'none';\n",
              "\n",
              "      async function convertToInteractive(key) {\n",
              "        const element = document.querySelector('#df-04c24bd6-8962-4a1c-9b97-90cc385618a0');\n",
              "        const dataTable =\n",
              "          await google.colab.kernel.invokeFunction('convertToInteractive',\n",
              "                                                    [key], {});\n",
              "        if (!dataTable) return;\n",
              "\n",
              "        const docLinkHtml = 'Like what you see? Visit the ' +\n",
              "          '<a target=\"_blank\" href=https://colab.research.google.com/notebooks/data_table.ipynb>data table notebook</a>'\n",
              "          + ' to learn more about interactive tables.';\n",
              "        element.innerHTML = '';\n",
              "        dataTable['output_type'] = 'display_data';\n",
              "        await google.colab.output.renderOutput(dataTable, element);\n",
              "        const docLink = document.createElement('div');\n",
              "        docLink.innerHTML = docLinkHtml;\n",
              "        element.appendChild(docLink);\n",
              "      }\n",
              "    </script>\n",
              "  </div>\n",
              "\n",
              "\n",
              "<div id=\"df-2bf2238a-a0be-48ee-b508-217b513332dd\">\n",
              "  <button class=\"colab-df-quickchart\" onclick=\"quickchart('df-2bf2238a-a0be-48ee-b508-217b513332dd')\"\n",
              "            title=\"Suggest charts.\"\n",
              "            style=\"display:none;\">\n",
              "\n",
              "<svg xmlns=\"http://www.w3.org/2000/svg\" height=\"24px\"viewBox=\"0 0 24 24\"\n",
              "     width=\"24px\">\n",
              "    <g>\n",
              "        <path d=\"M19 3H5c-1.1 0-2 .9-2 2v14c0 1.1.9 2 2 2h14c1.1 0 2-.9 2-2V5c0-1.1-.9-2-2-2zM9 17H7v-7h2v7zm4 0h-2V7h2v10zm4 0h-2v-4h2v4z\"/>\n",
              "    </g>\n",
              "</svg>\n",
              "  </button>\n",
              "\n",
              "<style>\n",
              "  .colab-df-quickchart {\n",
              "      --bg-color: #E8F0FE;\n",
              "      --fill-color: #1967D2;\n",
              "      --hover-bg-color: #E2EBFA;\n",
              "      --hover-fill-color: #174EA6;\n",
              "      --disabled-fill-color: #AAA;\n",
              "      --disabled-bg-color: #DDD;\n",
              "  }\n",
              "\n",
              "  [theme=dark] .colab-df-quickchart {\n",
              "      --bg-color: #3B4455;\n",
              "      --fill-color: #D2E3FC;\n",
              "      --hover-bg-color: #434B5C;\n",
              "      --hover-fill-color: #FFFFFF;\n",
              "      --disabled-bg-color: #3B4455;\n",
              "      --disabled-fill-color: #666;\n",
              "  }\n",
              "\n",
              "  .colab-df-quickchart {\n",
              "    background-color: var(--bg-color);\n",
              "    border: none;\n",
              "    border-radius: 50%;\n",
              "    cursor: pointer;\n",
              "    display: none;\n",
              "    fill: var(--fill-color);\n",
              "    height: 32px;\n",
              "    padding: 0;\n",
              "    width: 32px;\n",
              "  }\n",
              "\n",
              "  .colab-df-quickchart:hover {\n",
              "    background-color: var(--hover-bg-color);\n",
              "    box-shadow: 0 1px 2px rgba(60, 64, 67, 0.3), 0 1px 3px 1px rgba(60, 64, 67, 0.15);\n",
              "    fill: var(--button-hover-fill-color);\n",
              "  }\n",
              "\n",
              "  .colab-df-quickchart-complete:disabled,\n",
              "  .colab-df-quickchart-complete:disabled:hover {\n",
              "    background-color: var(--disabled-bg-color);\n",
              "    fill: var(--disabled-fill-color);\n",
              "    box-shadow: none;\n",
              "  }\n",
              "\n",
              "  .colab-df-spinner {\n",
              "    border: 2px solid var(--fill-color);\n",
              "    border-color: transparent;\n",
              "    border-bottom-color: var(--fill-color);\n",
              "    animation:\n",
              "      spin 1s steps(1) infinite;\n",
              "  }\n",
              "\n",
              "  @keyframes spin {\n",
              "    0% {\n",
              "      border-color: transparent;\n",
              "      border-bottom-color: var(--fill-color);\n",
              "      border-left-color: var(--fill-color);\n",
              "    }\n",
              "    20% {\n",
              "      border-color: transparent;\n",
              "      border-left-color: var(--fill-color);\n",
              "      border-top-color: var(--fill-color);\n",
              "    }\n",
              "    30% {\n",
              "      border-color: transparent;\n",
              "      border-left-color: var(--fill-color);\n",
              "      border-top-color: var(--fill-color);\n",
              "      border-right-color: var(--fill-color);\n",
              "    }\n",
              "    40% {\n",
              "      border-color: transparent;\n",
              "      border-right-color: var(--fill-color);\n",
              "      border-top-color: var(--fill-color);\n",
              "    }\n",
              "    60% {\n",
              "      border-color: transparent;\n",
              "      border-right-color: var(--fill-color);\n",
              "    }\n",
              "    80% {\n",
              "      border-color: transparent;\n",
              "      border-right-color: var(--fill-color);\n",
              "      border-bottom-color: var(--fill-color);\n",
              "    }\n",
              "    90% {\n",
              "      border-color: transparent;\n",
              "      border-bottom-color: var(--fill-color);\n",
              "    }\n",
              "  }\n",
              "</style>\n",
              "\n",
              "  <script>\n",
              "    async function quickchart(key) {\n",
              "      const quickchartButtonEl =\n",
              "        document.querySelector('#' + key + ' button');\n",
              "      quickchartButtonEl.disabled = true;  // To prevent multiple clicks.\n",
              "      quickchartButtonEl.classList.add('colab-df-spinner');\n",
              "      try {\n",
              "        const charts = await google.colab.kernel.invokeFunction(\n",
              "            'suggestCharts', [key], {});\n",
              "      } catch (error) {\n",
              "        console.error('Error during call to suggestCharts:', error);\n",
              "      }\n",
              "      quickchartButtonEl.classList.remove('colab-df-spinner');\n",
              "      quickchartButtonEl.classList.add('colab-df-quickchart-complete');\n",
              "    }\n",
              "    (() => {\n",
              "      let quickchartButtonEl =\n",
              "        document.querySelector('#df-2bf2238a-a0be-48ee-b508-217b513332dd button');\n",
              "      quickchartButtonEl.style.display =\n",
              "        google.colab.kernel.accessAllowed ? 'block' : 'none';\n",
              "    })();\n",
              "  </script>\n",
              "</div>\n",
              "    </div>\n",
              "  </div>\n"
            ]
          },
          "metadata": {},
          "execution_count": 40
        }
      ]
    },
    {
      "cell_type": "code",
      "source": [
        "value_counts = df['Education'].value_counts()\n",
        "\n",
        "# Print the count of each unique entry\n",
        "print(value_counts)"
      ],
      "metadata": {
        "colab": {
          "base_uri": "https://localhost:8080/"
        },
        "id": "o2WBfmE5rrTT",
        "outputId": "10da192d-e972-43bd-dc2e-4e66654b0894"
      },
      "execution_count": null,
      "outputs": [
        {
          "output_type": "stream",
          "name": "stdout",
          "text": [
            "University Education    15848\n",
            "High School             13556\n",
            "Trade School             1958\n",
            "Elementary               1198\n",
            "Name: Education, dtype: int64\n"
          ]
        }
      ]
    },
    {
      "cell_type": "code",
      "source": [
        "value_counts = df['Marital-Status'].value_counts()\n",
        "\n",
        "# Print the count of each unique entry\n",
        "print(value_counts)"
      ],
      "metadata": {
        "colab": {
          "base_uri": "https://localhost:8080/"
        },
        "id": "Fo-xiINdrxzB",
        "outputId": "fab93cbc-56bf-4e88-b1bb-99cabc0c5c48"
      },
      "execution_count": null,
      "outputs": [
        {
          "output_type": "stream",
          "name": "stdout",
          "text": [
            "Married      14999\n",
            "Single       10682\n",
            "Unmarried     6879\n",
            "Name: Marital-Status, dtype: int64\n"
          ]
        }
      ]
    },
    {
      "cell_type": "code",
      "source": [
        "value_counts = df['Race'].value_counts()\n",
        "\n",
        "# Print the count of each unique entry\n",
        "print(value_counts)"
      ],
      "metadata": {
        "colab": {
          "base_uri": "https://localhost:8080/"
        },
        "id": "8zIEzueRr1Y8",
        "outputId": "4f47d386-82fb-41e8-e63f-137b1edc9c43"
      },
      "execution_count": null,
      "outputs": [
        {
          "output_type": "stream",
          "name": "stdout",
          "text": [
            "Major Races    32289\n",
            "Other            271\n",
            "Name: Race, dtype: int64\n"
          ]
        }
      ]
    },
    {
      "cell_type": "code",
      "source": [
        "value_counts = df['Age'].value_counts()\n",
        "\n",
        "# Print the count of each unique entry\n",
        "print(value_counts)"
      ],
      "metadata": {
        "colab": {
          "base_uri": "https://localhost:8080/"
        },
        "id": "pBOENMKqr-Eq",
        "outputId": "ea75c053-8e31-44db-f078-f1af7ce2cb77"
      },
      "execution_count": null,
      "outputs": [
        {
          "output_type": "stream",
          "name": "stdout",
          "text": [
            "30-40     8545\n",
            "20-30     8162\n",
            "40=50     6983\n",
            "50-64     5124\n",
            "10-20     2410\n",
            "65-max    1336\n",
            "Name: Age, dtype: int64\n"
          ]
        }
      ]
    },
    {
      "cell_type": "code",
      "source": [
        "#selected_columns = ['Age', 'Education', 'Race', 'Marital-Status']\n",
        "\n",
        "# Create a new DataFrame with only the selected columns\n",
        "new_df = df.copy()"
      ],
      "metadata": {
        "id": "Wbj4RGHC0nyc"
      },
      "execution_count": null,
      "outputs": []
    },
    {
      "cell_type": "code",
      "source": [
        "new_df.head()"
      ],
      "metadata": {
        "colab": {
          "base_uri": "https://localhost:8080/",
          "height": 206
        },
        "id": "lIROQGJ301nf",
        "outputId": "b125ec32-dee7-4931-d7da-16e40807b9c3"
      },
      "execution_count": null,
      "outputs": [
        {
          "output_type": "execute_result",
          "data": {
            "text/plain": [
              "     Age                  2       3             Education   5 Marital-Status  \\\n",
              "0  40=50   Self-emp-not-inc   83311  University Education  13        Married   \n",
              "1  30-40            Private  215646           High School   9      Unmarried   \n",
              "2  50-64            Private  234721           High School   7        Married   \n",
              "3  20-30            Private  338409  University Education  13        Married   \n",
              "4  30-40            Private  284582  University Education  14        Married   \n",
              "\n",
              "           Occupation               8         Race       10  11  12  13  \\\n",
              "0     Exec-managerial         Husband  Major Races     Male   0   0  13   \n",
              "1   Handlers-cleaners   Not-in-family  Major Races     Male   0   0  40   \n",
              "2   Handlers-cleaners         Husband  Major Races     Male   0   0  40   \n",
              "3      Prof-specialty            Wife  Major Races   Female   0   0  40   \n",
              "4     Exec-managerial            Wife  Major Races   Female   0   0  40   \n",
              "\n",
              "               14      15  \n",
              "0   United-States   <=50K  \n",
              "1   United-States   <=50K  \n",
              "2   United-States   <=50K  \n",
              "3            Cuba   <=50K  \n",
              "4   United-States   <=50K  "
            ],
            "text/html": [
              "\n",
              "  <div id=\"df-b0955b5f-2199-4807-98c1-4286b65d01b7\" class=\"colab-df-container\">\n",
              "    <div>\n",
              "<style scoped>\n",
              "    .dataframe tbody tr th:only-of-type {\n",
              "        vertical-align: middle;\n",
              "    }\n",
              "\n",
              "    .dataframe tbody tr th {\n",
              "        vertical-align: top;\n",
              "    }\n",
              "\n",
              "    .dataframe thead th {\n",
              "        text-align: right;\n",
              "    }\n",
              "</style>\n",
              "<table border=\"1\" class=\"dataframe\">\n",
              "  <thead>\n",
              "    <tr style=\"text-align: right;\">\n",
              "      <th></th>\n",
              "      <th>Age</th>\n",
              "      <th>2</th>\n",
              "      <th>3</th>\n",
              "      <th>Education</th>\n",
              "      <th>5</th>\n",
              "      <th>Marital-Status</th>\n",
              "      <th>Occupation</th>\n",
              "      <th>8</th>\n",
              "      <th>Race</th>\n",
              "      <th>10</th>\n",
              "      <th>11</th>\n",
              "      <th>12</th>\n",
              "      <th>13</th>\n",
              "      <th>14</th>\n",
              "      <th>15</th>\n",
              "    </tr>\n",
              "  </thead>\n",
              "  <tbody>\n",
              "    <tr>\n",
              "      <th>0</th>\n",
              "      <td>40=50</td>\n",
              "      <td>Self-emp-not-inc</td>\n",
              "      <td>83311</td>\n",
              "      <td>University Education</td>\n",
              "      <td>13</td>\n",
              "      <td>Married</td>\n",
              "      <td>Exec-managerial</td>\n",
              "      <td>Husband</td>\n",
              "      <td>Major Races</td>\n",
              "      <td>Male</td>\n",
              "      <td>0</td>\n",
              "      <td>0</td>\n",
              "      <td>13</td>\n",
              "      <td>United-States</td>\n",
              "      <td>&lt;=50K</td>\n",
              "    </tr>\n",
              "    <tr>\n",
              "      <th>1</th>\n",
              "      <td>30-40</td>\n",
              "      <td>Private</td>\n",
              "      <td>215646</td>\n",
              "      <td>High School</td>\n",
              "      <td>9</td>\n",
              "      <td>Unmarried</td>\n",
              "      <td>Handlers-cleaners</td>\n",
              "      <td>Not-in-family</td>\n",
              "      <td>Major Races</td>\n",
              "      <td>Male</td>\n",
              "      <td>0</td>\n",
              "      <td>0</td>\n",
              "      <td>40</td>\n",
              "      <td>United-States</td>\n",
              "      <td>&lt;=50K</td>\n",
              "    </tr>\n",
              "    <tr>\n",
              "      <th>2</th>\n",
              "      <td>50-64</td>\n",
              "      <td>Private</td>\n",
              "      <td>234721</td>\n",
              "      <td>High School</td>\n",
              "      <td>7</td>\n",
              "      <td>Married</td>\n",
              "      <td>Handlers-cleaners</td>\n",
              "      <td>Husband</td>\n",
              "      <td>Major Races</td>\n",
              "      <td>Male</td>\n",
              "      <td>0</td>\n",
              "      <td>0</td>\n",
              "      <td>40</td>\n",
              "      <td>United-States</td>\n",
              "      <td>&lt;=50K</td>\n",
              "    </tr>\n",
              "    <tr>\n",
              "      <th>3</th>\n",
              "      <td>20-30</td>\n",
              "      <td>Private</td>\n",
              "      <td>338409</td>\n",
              "      <td>University Education</td>\n",
              "      <td>13</td>\n",
              "      <td>Married</td>\n",
              "      <td>Prof-specialty</td>\n",
              "      <td>Wife</td>\n",
              "      <td>Major Races</td>\n",
              "      <td>Female</td>\n",
              "      <td>0</td>\n",
              "      <td>0</td>\n",
              "      <td>40</td>\n",
              "      <td>Cuba</td>\n",
              "      <td>&lt;=50K</td>\n",
              "    </tr>\n",
              "    <tr>\n",
              "      <th>4</th>\n",
              "      <td>30-40</td>\n",
              "      <td>Private</td>\n",
              "      <td>284582</td>\n",
              "      <td>University Education</td>\n",
              "      <td>14</td>\n",
              "      <td>Married</td>\n",
              "      <td>Exec-managerial</td>\n",
              "      <td>Wife</td>\n",
              "      <td>Major Races</td>\n",
              "      <td>Female</td>\n",
              "      <td>0</td>\n",
              "      <td>0</td>\n",
              "      <td>40</td>\n",
              "      <td>United-States</td>\n",
              "      <td>&lt;=50K</td>\n",
              "    </tr>\n",
              "  </tbody>\n",
              "</table>\n",
              "</div>\n",
              "    <div class=\"colab-df-buttons\">\n",
              "\n",
              "  <div class=\"colab-df-container\">\n",
              "    <button class=\"colab-df-convert\" onclick=\"convertToInteractive('df-b0955b5f-2199-4807-98c1-4286b65d01b7')\"\n",
              "            title=\"Convert this dataframe to an interactive table.\"\n",
              "            style=\"display:none;\">\n",
              "\n",
              "  <svg xmlns=\"http://www.w3.org/2000/svg\" height=\"24px\" viewBox=\"0 -960 960 960\">\n",
              "    <path d=\"M120-120v-720h720v720H120Zm60-500h600v-160H180v160Zm220 220h160v-160H400v160Zm0 220h160v-160H400v160ZM180-400h160v-160H180v160Zm440 0h160v-160H620v160ZM180-180h160v-160H180v160Zm440 0h160v-160H620v160Z\"/>\n",
              "  </svg>\n",
              "    </button>\n",
              "\n",
              "  <style>\n",
              "    .colab-df-container {\n",
              "      display:flex;\n",
              "      gap: 12px;\n",
              "    }\n",
              "\n",
              "    .colab-df-convert {\n",
              "      background-color: #E8F0FE;\n",
              "      border: none;\n",
              "      border-radius: 50%;\n",
              "      cursor: pointer;\n",
              "      display: none;\n",
              "      fill: #1967D2;\n",
              "      height: 32px;\n",
              "      padding: 0 0 0 0;\n",
              "      width: 32px;\n",
              "    }\n",
              "\n",
              "    .colab-df-convert:hover {\n",
              "      background-color: #E2EBFA;\n",
              "      box-shadow: 0px 1px 2px rgba(60, 64, 67, 0.3), 0px 1px 3px 1px rgba(60, 64, 67, 0.15);\n",
              "      fill: #174EA6;\n",
              "    }\n",
              "\n",
              "    .colab-df-buttons div {\n",
              "      margin-bottom: 4px;\n",
              "    }\n",
              "\n",
              "    [theme=dark] .colab-df-convert {\n",
              "      background-color: #3B4455;\n",
              "      fill: #D2E3FC;\n",
              "    }\n",
              "\n",
              "    [theme=dark] .colab-df-convert:hover {\n",
              "      background-color: #434B5C;\n",
              "      box-shadow: 0px 1px 3px 1px rgba(0, 0, 0, 0.15);\n",
              "      filter: drop-shadow(0px 1px 2px rgba(0, 0, 0, 0.3));\n",
              "      fill: #FFFFFF;\n",
              "    }\n",
              "  </style>\n",
              "\n",
              "    <script>\n",
              "      const buttonEl =\n",
              "        document.querySelector('#df-b0955b5f-2199-4807-98c1-4286b65d01b7 button.colab-df-convert');\n",
              "      buttonEl.style.display =\n",
              "        google.colab.kernel.accessAllowed ? 'block' : 'none';\n",
              "\n",
              "      async function convertToInteractive(key) {\n",
              "        const element = document.querySelector('#df-b0955b5f-2199-4807-98c1-4286b65d01b7');\n",
              "        const dataTable =\n",
              "          await google.colab.kernel.invokeFunction('convertToInteractive',\n",
              "                                                    [key], {});\n",
              "        if (!dataTable) return;\n",
              "\n",
              "        const docLinkHtml = 'Like what you see? Visit the ' +\n",
              "          '<a target=\"_blank\" href=https://colab.research.google.com/notebooks/data_table.ipynb>data table notebook</a>'\n",
              "          + ' to learn more about interactive tables.';\n",
              "        element.innerHTML = '';\n",
              "        dataTable['output_type'] = 'display_data';\n",
              "        await google.colab.output.renderOutput(dataTable, element);\n",
              "        const docLink = document.createElement('div');\n",
              "        docLink.innerHTML = docLinkHtml;\n",
              "        element.appendChild(docLink);\n",
              "      }\n",
              "    </script>\n",
              "  </div>\n",
              "\n",
              "\n",
              "<div id=\"df-490dcff3-541e-45c7-a85a-662e3e5fd9df\">\n",
              "  <button class=\"colab-df-quickchart\" onclick=\"quickchart('df-490dcff3-541e-45c7-a85a-662e3e5fd9df')\"\n",
              "            title=\"Suggest charts.\"\n",
              "            style=\"display:none;\">\n",
              "\n",
              "<svg xmlns=\"http://www.w3.org/2000/svg\" height=\"24px\"viewBox=\"0 0 24 24\"\n",
              "     width=\"24px\">\n",
              "    <g>\n",
              "        <path d=\"M19 3H5c-1.1 0-2 .9-2 2v14c0 1.1.9 2 2 2h14c1.1 0 2-.9 2-2V5c0-1.1-.9-2-2-2zM9 17H7v-7h2v7zm4 0h-2V7h2v10zm4 0h-2v-4h2v4z\"/>\n",
              "    </g>\n",
              "</svg>\n",
              "  </button>\n",
              "\n",
              "<style>\n",
              "  .colab-df-quickchart {\n",
              "      --bg-color: #E8F0FE;\n",
              "      --fill-color: #1967D2;\n",
              "      --hover-bg-color: #E2EBFA;\n",
              "      --hover-fill-color: #174EA6;\n",
              "      --disabled-fill-color: #AAA;\n",
              "      --disabled-bg-color: #DDD;\n",
              "  }\n",
              "\n",
              "  [theme=dark] .colab-df-quickchart {\n",
              "      --bg-color: #3B4455;\n",
              "      --fill-color: #D2E3FC;\n",
              "      --hover-bg-color: #434B5C;\n",
              "      --hover-fill-color: #FFFFFF;\n",
              "      --disabled-bg-color: #3B4455;\n",
              "      --disabled-fill-color: #666;\n",
              "  }\n",
              "\n",
              "  .colab-df-quickchart {\n",
              "    background-color: var(--bg-color);\n",
              "    border: none;\n",
              "    border-radius: 50%;\n",
              "    cursor: pointer;\n",
              "    display: none;\n",
              "    fill: var(--fill-color);\n",
              "    height: 32px;\n",
              "    padding: 0;\n",
              "    width: 32px;\n",
              "  }\n",
              "\n",
              "  .colab-df-quickchart:hover {\n",
              "    background-color: var(--hover-bg-color);\n",
              "    box-shadow: 0 1px 2px rgba(60, 64, 67, 0.3), 0 1px 3px 1px rgba(60, 64, 67, 0.15);\n",
              "    fill: var(--button-hover-fill-color);\n",
              "  }\n",
              "\n",
              "  .colab-df-quickchart-complete:disabled,\n",
              "  .colab-df-quickchart-complete:disabled:hover {\n",
              "    background-color: var(--disabled-bg-color);\n",
              "    fill: var(--disabled-fill-color);\n",
              "    box-shadow: none;\n",
              "  }\n",
              "\n",
              "  .colab-df-spinner {\n",
              "    border: 2px solid var(--fill-color);\n",
              "    border-color: transparent;\n",
              "    border-bottom-color: var(--fill-color);\n",
              "    animation:\n",
              "      spin 1s steps(1) infinite;\n",
              "  }\n",
              "\n",
              "  @keyframes spin {\n",
              "    0% {\n",
              "      border-color: transparent;\n",
              "      border-bottom-color: var(--fill-color);\n",
              "      border-left-color: var(--fill-color);\n",
              "    }\n",
              "    20% {\n",
              "      border-color: transparent;\n",
              "      border-left-color: var(--fill-color);\n",
              "      border-top-color: var(--fill-color);\n",
              "    }\n",
              "    30% {\n",
              "      border-color: transparent;\n",
              "      border-left-color: var(--fill-color);\n",
              "      border-top-color: var(--fill-color);\n",
              "      border-right-color: var(--fill-color);\n",
              "    }\n",
              "    40% {\n",
              "      border-color: transparent;\n",
              "      border-right-color: var(--fill-color);\n",
              "      border-top-color: var(--fill-color);\n",
              "    }\n",
              "    60% {\n",
              "      border-color: transparent;\n",
              "      border-right-color: var(--fill-color);\n",
              "    }\n",
              "    80% {\n",
              "      border-color: transparent;\n",
              "      border-right-color: var(--fill-color);\n",
              "      border-bottom-color: var(--fill-color);\n",
              "    }\n",
              "    90% {\n",
              "      border-color: transparent;\n",
              "      border-bottom-color: var(--fill-color);\n",
              "    }\n",
              "  }\n",
              "</style>\n",
              "\n",
              "  <script>\n",
              "    async function quickchart(key) {\n",
              "      const quickchartButtonEl =\n",
              "        document.querySelector('#' + key + ' button');\n",
              "      quickchartButtonEl.disabled = true;  // To prevent multiple clicks.\n",
              "      quickchartButtonEl.classList.add('colab-df-spinner');\n",
              "      try {\n",
              "        const charts = await google.colab.kernel.invokeFunction(\n",
              "            'suggestCharts', [key], {});\n",
              "      } catch (error) {\n",
              "        console.error('Error during call to suggestCharts:', error);\n",
              "      }\n",
              "      quickchartButtonEl.classList.remove('colab-df-spinner');\n",
              "      quickchartButtonEl.classList.add('colab-df-quickchart-complete');\n",
              "    }\n",
              "    (() => {\n",
              "      let quickchartButtonEl =\n",
              "        document.querySelector('#df-490dcff3-541e-45c7-a85a-662e3e5fd9df button');\n",
              "      quickchartButtonEl.style.display =\n",
              "        google.colab.kernel.accessAllowed ? 'block' : 'none';\n",
              "    })();\n",
              "  </script>\n",
              "</div>\n",
              "    </div>\n",
              "  </div>\n"
            ]
          },
          "metadata": {},
          "execution_count": 46
        }
      ]
    },
    {
      "cell_type": "code",
      "source": [
        "def calculate_k_anonymity(dataset, quasi_identifiers):\n",
        "    k_values = {}  # A dictionary to store k-values for each group\n",
        "\n",
        "    for _, record in dataset.iterrows():\n",
        "        # Extract the quasi-identifier values from the record\n",
        "        qi_values = tuple(record[qi] for qi in quasi_identifiers)\n",
        "\n",
        "        if qi_values in k_values:\n",
        "            k_values[qi_values] += 1\n",
        "        else:\n",
        "            k_values[qi_values] = 1\n",
        "\n",
        "    # Find the maximum k-value\n",
        "    max_k_value = max(k_values.values())\n",
        "\n",
        "    return max_k_value\n",
        "\n",
        "# Load the dataset from a CSV file\n",
        "dataset = pd.read_csv(\"k_anonymous_dataset.csv\")\n",
        "\n",
        "quasi_identifiers = [\"Age\", \"Education\", \"Marital-Status\", \"Race\"]  # Quasi-identifier attributes\n",
        "\n",
        "max_k = calculate_k_anonymity(dataset, quasi_identifiers)\n",
        "print(\"The maximum k-value in the dataset is:\", max_k)"
      ],
      "metadata": {
        "colab": {
          "base_uri": "https://localhost:8080/"
        },
        "id": "ZHWIPxr469cw",
        "outputId": "c80602f5-ce5c-4c05-c5ea-e3b0d135def1"
      },
      "execution_count": null,
      "outputs": [
        {
          "output_type": "stream",
          "name": "stdout",
          "text": [
            "The maximum k-value in the dataset is: 2978\n"
          ]
        }
      ]
    },
    {
      "cell_type": "code",
      "source": [
        "def ensure_k_anonymity_with_suppression(new_df, quasi_identifiers, k):\n",
        "    #Group the data by the quasi-identifiers\n",
        "    grouped_data = new_df.groupby(quasi_identifiers).size().reset_index(name='count')\n",
        "\n",
        "    #Identify combinations that don't satisfy k-anonymity\n",
        "    non_k_anonymous_combinations = grouped_data[grouped_data['count'] < k]\n",
        "\n",
        "    #Create a set of indices to be suppressed\n",
        "    suppressed_indices = set()\n",
        "\n",
        "    for _, row in non_k_anonymous_combinations.iterrows():\n",
        "        condition = True\n",
        "        for column, value in zip(quasi_identifiers, row[quasi_identifiers]):\n",
        "            condition &= (new_df[column] == value)\n",
        "\n",
        "        if condition.any():\n",
        "            suppressed_indices.update(new_df[condition].index)\n",
        "\n",
        "    #Suppress (remove) rows that don't meet k-anonymity\n",
        "    k_anonymous_data = new_df.drop(index=suppressed_indices).reset_index(drop=True)\n",
        "\n",
        "    return k_anonymous_data"
      ],
      "metadata": {
        "id": "ZVSNVyMV0pWy"
      },
      "execution_count": null,
      "outputs": []
    },
    {
      "cell_type": "code",
      "source": [
        "quasi_identifiers = ['Age', 'Marital-Status', 'Race', 'Education']\n",
        "k_value = 10\n",
        "\n",
        "k_anonymous_data = ensure_k_anonymity_with_suppression(new_df, quasi_identifiers, k_value)\n",
        "# Save k_anonymous_data to a CSV file\n",
        "k_anonymous_data.to_csv('k_anonymous_dataset.csv', index=False)\n"
      ],
      "metadata": {
        "id": "qoKoHL1MUqX_"
      },
      "execution_count": null,
      "outputs": []
    },
    {
      "cell_type": "code",
      "source": [
        "k_anony = pd.read_csv('k_anonymous_dataset.csv')"
      ],
      "metadata": {
        "id": "Nd4oppkRVjxQ"
      },
      "execution_count": null,
      "outputs": []
    },
    {
      "cell_type": "code",
      "source": [
        "#CHECK IF DATA IS K-ANONYMOUS\n",
        "# Define the columns that contain sensitive information\n",
        "sensitive_columns = ['Age', 'Education', 'Marital-Status', 'Race']\n",
        "\n",
        "# Specify the value of k for k-anonymity\n",
        "k_value = max_k\n",
        "\n",
        "# Group the DataFrame by the sensitive columns and count the number of rows in each group\n",
        "grouped = k_anony.groupby(sensitive_columns).size().reset_index(name='count')\n",
        "\n",
        "# Check if any group has fewer than k rows\n",
        "non_k_anonymous_groups = grouped[grouped['count'] < k_value]\n",
        "\n",
        "if non_k_anonymous_groups.empty:\n",
        "    print(f'The dataset is {k_value}-anonymous.')\n",
        "else:\n",
        "    print(f'The dataset is not {k_value}-anonymous. Non-k-anonymous groups:')\n",
        "    print(non_k_anonymous_groups)"
      ],
      "metadata": {
        "colab": {
          "base_uri": "https://localhost:8080/"
        },
        "id": "C4rAcic9WN-2",
        "outputId": "64cc49e0-3d5a-436f-e29a-b002063e5121"
      },
      "execution_count": null,
      "outputs": [
        {
          "output_type": "stream",
          "name": "stdout",
          "text": [
            "The dataset is not 2978-anonymous. Non-k-anonymous groups:\n",
            "       Age             Education Marital-Status         Race  count\n",
            "0    10-20            Elementary         Single  Major Races     34\n",
            "1    10-20           High School        Married  Major Races     54\n",
            "2    10-20           High School         Single  Major Races   1374\n",
            "3    10-20           High School         Single        Other     22\n",
            "4    10-20           High School      Unmarried  Major Races     27\n",
            "..     ...                   ...            ...          ...    ...\n",
            "67  65-max          Trade School        Married  Major Races     48\n",
            "68  65-max          Trade School      Unmarried  Major Races     31\n",
            "69  65-max  University Education        Married  Major Races    314\n",
            "70  65-max  University Education         Single  Major Races     42\n",
            "71  65-max  University Education      Unmarried  Major Races    155\n",
            "\n",
            "[71 rows x 5 columns]\n"
          ]
        }
      ]
    },
    {
      "cell_type": "code",
      "source": [
        "df_a = pd.read_csv('adult.data')\n",
        "df_b = pd.read_csv('k_anonymous_dataset.csv')\n",
        "\n",
        "num_data_points_a = len(df_a)\n",
        "num_data_points_b = len(df_b)\n",
        "\n",
        "# Calculate the difference in the number of data points\n",
        "difference = abs(num_data_points_a - num_data_points_b)\n",
        "print(num_data_points_a)\n",
        "print(num_data_points_b)\n",
        "print(f\"The absolute difference in the number of data points is {difference}.\")"
      ],
      "metadata": {
        "colab": {
          "base_uri": "https://localhost:8080/"
        },
        "id": "MD0Y4zWarh88",
        "outputId": "2a4bf816-a3e2-4751-cd31-6484d1cb0346"
      },
      "execution_count": null,
      "outputs": [
        {
          "output_type": "stream",
          "name": "stdout",
          "text": [
            "32560\n",
            "32390\n",
            "The absolute difference in the number of data points is 170.\n"
          ]
        }
      ]
    },
    {
      "cell_type": "code",
      "source": [
        "def generalize_occupation_level1(occupation):\n",
        "    occupation_mapping = {\n",
        "        ' Exec-managerial': 'Management',\n",
        "        ' Prof-specialty': 'Professional',\n",
        "        ' Other-service': 'Service',\n",
        "        ' Adm-clerical': 'Clerical',\n",
        "        ' Sales': 'Sales',\n",
        "        ' Craft-repair': 'Crafts',\n",
        "        ' Transport-moving': 'Transport',\n",
        "        ' Farming-fishing': 'Farming',\n",
        "        ' Machine-op-inspct': 'Machine Operation',\n",
        "        ' Tech-support': 'Tech Support',\n",
        "        ' ?': 'Unknown',\n",
        "        ' Protective-serv': 'Protective Service',\n",
        "        ' Armed-Forces': 'Armed Forces',\n",
        "        ' Priv-house-serv': 'Private House Service'\n",
        "    }\n",
        "    return occupation_mapping.get(occupation, 'Other')"
      ],
      "metadata": {
        "id": "MA25r1hlJGFA"
      },
      "execution_count": null,
      "outputs": []
    },
    {
      "cell_type": "code",
      "source": [
        "def generalize_occupation_level2(occupation):\n",
        "    if occupation in ['Management', 'Professional', 'Clerical', 'Tech Support']:\n",
        "        return 'White-Collar'\n",
        "    elif occupation in ['Service', 'Sales']:\n",
        "        return 'Service and Sales'\n",
        "    elif occupation in ['Crafts', 'Transport', 'Machine Operation', 'Protective Service']:\n",
        "        return 'Skilled Labor'\n",
        "    elif occupation in ['Farming', 'Unknown', 'Armed Forces', 'Private House Service']:\n",
        "        return 'Other and Unknown'\n",
        "    else:\n",
        "        return 'Other'"
      ],
      "metadata": {
        "id": "pryrp0HaJImK"
      },
      "execution_count": null,
      "outputs": []
    },
    {
      "cell_type": "code",
      "source": [
        "def generalize_occupation_level3(occupation):\n",
        "    if occupation in ['White-Collar', 'Service and Sales']:\n",
        "        return 'Professional and Service'\n",
        "    else:\n",
        "        return 'Skilled Labor and Other'"
      ],
      "metadata": {
        "id": "arZ3OC2vJOna"
      },
      "execution_count": null,
      "outputs": []
    },
    {
      "cell_type": "code",
      "source": [
        "data = pd.read_csv('k_anonymous_dataset.csv')"
      ],
      "metadata": {
        "id": "w0v_MoBTOlMC"
      },
      "execution_count": null,
      "outputs": []
    },
    {
      "cell_type": "code",
      "source": [
        "k=10\n",
        "L=2\n",
        "grouped = data.groupby(['Age', 'Race', 'Marital-Status', 'Education'])\n",
        "\n",
        "# Define a function to check L-diversity within each group\n",
        "def check_l_diversity(group):\n",
        "    # Count the number of unique sensitive values within the group\n",
        "    unique_sensitive_values = group['Occupation'].nunique()\n",
        "    # Check if L-diversity is satisfied (at least L unique sensitive values)\n",
        "    return unique_sensitive_values >= L"
      ],
      "metadata": {
        "id": "anZjPd8GOjgh"
      },
      "execution_count": null,
      "outputs": []
    },
    {
      "cell_type": "code",
      "source": [
        "# Check L-diversity within each group\n",
        "l_diversity_satisfied = grouped.apply(check_l_diversity)\n",
        "\n",
        "# Filter groups that do not satisfy L-diversity\n",
        "non_l_diverse_groups = l_diversity_satisfied[l_diversity_satisfied == False]\n",
        "\n",
        "# Anonymize the data within non-L-diverse groups (e.g., by generalizing sensitive values)\n",
        "\n",
        "# Output the modified dataset\n",
        "modified_data = data.copy()\n",
        "\n",
        "for group_index in non_l_diverse_groups.index:\n",
        "    # Replace sensitive values within non-L-diverse groups (e.g., with a generalization or a different value)\n",
        "    modified_data.loc[grouped.groups[group_index], 'Occupation'] = 'Unknown'  # Example: Replace with 'Unknown'\n",
        "\n",
        "modified_data.to_csv('l-diverse_dataset.csv', index=False)"
      ],
      "metadata": {
        "id": "MxAn_zyxPIGC"
      },
      "execution_count": null,
      "outputs": []
    },
    {
      "cell_type": "code",
      "source": [
        "'''\n",
        "# Define parameters\n",
        "l_value = 7  # Specify the desired l-diversity value\n",
        "quasi_identifiers = ['Age', 'Education', 'Marital-Status', 'Race']  # Specify your quasi-identifiers\n",
        "\n",
        "# Define the generalization levels for the \"occupation\" attribute\n",
        "generalization_levels = {\n",
        "    'level1': generalize_occupation_level1,\n",
        "    'level2': generalize_occupation_level2,\n",
        "    'level3': generalize_occupation_level3\n",
        "}\n",
        "\n",
        "# Function to achieve l-diversity\n",
        "def achieve_ldiversity(df_b, l_value, quasi_identifiers, generalization_levels):\n",
        "    while True:\n",
        "        all_groups_meet_l_diversity = True\n",
        "\n",
        "        # Group the data by quasi-identifiers\n",
        "        grouped = df_b.groupby(quasi_identifiers)\n",
        "\n",
        "        for group_key, data_group in grouped:\n",
        "            unique_occupations = data_group['Occupation'].unique()\n",
        "\n",
        "            if len(unique_occupations) < l_value:\n",
        "                all_groups_meet_l_diversity = False\n",
        "\n",
        "                # Find the most specific occupation level that satisfies l-diversity\n",
        "                for level, generalize_func in generalization_levels.items():\n",
        "                    data_group['Occupation'] = data_group['Occupation'].apply(generalize_func)\n",
        "                    unique_occupations = data_group['Occupation'].unique()\n",
        "\n",
        "                    if len(unique_occupations) >= l_value:\n",
        "                        break\n",
        "\n",
        "                # Update the original DataFrame with the anonymized data\n",
        "                df_b.loc[data_group.index] = data_group\n",
        "\n",
        "        if all_groups_meet_l_diversity:\n",
        "            break\n",
        "\n",
        "    return df\n",
        "\n",
        "\n",
        "# Call the function to achieve l-diversity\n",
        "anonymized_df = achieve_ldiversity(df, l_value, quasi_identifiers, generalization_levels)'''"
      ],
      "metadata": {
        "colab": {
          "base_uri": "https://localhost:8080/",
          "height": 89
        },
        "id": "265-vKGNJT3Y",
        "outputId": "5155dbb8-0524-4907-c077-8a0172bba7f8"
      },
      "execution_count": null,
      "outputs": [
        {
          "output_type": "execute_result",
          "data": {
            "text/plain": [
              "'\\n# Define parameters\\nl_value = 7  # Specify the desired l-diversity value\\nquasi_identifiers = [\\'Age\\', \\'Education\\', \\'Marital-Status\\', \\'Race\\']  # Specify your quasi-identifiers\\n\\n# Define the generalization levels for the \"occupation\" attribute\\ngeneralization_levels = {\\n    \\'level1\\': generalize_occupation_level1,\\n    \\'level2\\': generalize_occupation_level2,\\n    \\'level3\\': generalize_occupation_level3\\n}\\n\\n# Function to achieve l-diversity\\ndef achieve_ldiversity(df_b, l_value, quasi_identifiers, generalization_levels):\\n    while True:\\n        all_groups_meet_l_diversity = True\\n\\n        # Group the data by quasi-identifiers\\n        grouped = df_b.groupby(quasi_identifiers)\\n\\n        for group_key, data_group in grouped:\\n            unique_occupations = data_group[\\'Occupation\\'].unique()\\n\\n            if len(unique_occupations) < l_value:\\n                all_groups_meet_l_diversity = False\\n\\n                # Find the most specific occupation level that satisfies l-diversity\\n                for level, generalize_func in generalization_levels.items():\\n                    data_group[\\'Occupation\\'] = data_group[\\'Occupation\\'].apply(generalize_func)\\n                    unique_occupations = data_group[\\'Occupation\\'].unique()\\n\\n                    if len(unique_occupations) >= l_value:\\n                        break\\n\\n                # Update the original DataFrame with the anonymized data\\n                df_b.loc[data_group.index] = data_group\\n\\n        if all_groups_meet_l_diversity:\\n            break\\n\\n    return df\\n\\n\\n# Call the function to achieve l-diversity\\nanonymized_df = achieve_ldiversity(df, l_value, quasi_identifiers, generalization_levels)'"
            ],
            "application/vnd.google.colaboratory.intrinsic+json": {
              "type": "string"
            }
          },
          "metadata": {},
          "execution_count": 59
        }
      ]
    },
    {
      "cell_type": "code",
      "source": [
        "def calculate_distortion(original_dataset, modified_dataset):\n",
        "    # Calculate distortion as the mean absolute difference between original and modified datasets\n",
        "    distortion = (original_dataset - modified_dataset).abs().mean().mean()\n",
        "    return distortion\n",
        "\n",
        "def calculate_precision(original_dataset, modified_dataset, k_value):\n",
        "    # Calculate precision\n",
        "    count_original = original_dataset.shape[0]\n",
        "    count_modified = modified_dataset.shape[0]\n",
        "\n",
        "    # True positives: Records that became indistinguishable from at least k - 1 other records\n",
        "    true_positives = count_original - count_modified\n",
        "\n",
        "    # False positives: Records that became indistinguishable from fewer than k - 1 other records\n",
        "    false_positives = count_modified - true_positives\n",
        "\n",
        "    precision = true_positives / (true_positives + false_positives)\n",
        "    return precision"
      ],
      "metadata": {
        "id": "1AKc9KLmmET8"
      },
      "execution_count": null,
      "outputs": []
    },
    {
      "cell_type": "code",
      "source": [
        "df_original = pd.read_csv('adult.data')\n",
        "df_k_anony = pd.read_csv('k_anonymous_dataset.csv')\n",
        "df_l_diverse = pd.read_csv('l-diverse_dataset.csv')"
      ],
      "metadata": {
        "id": "Ea6NHAijmKxa"
      },
      "execution_count": null,
      "outputs": []
    },
    {
      "cell_type": "code",
      "source": [
        "distortion_k = calculate_distortion(df_original, df_k_anony)\n",
        "precision_k = calculate_precision(df_original, df_k_anony, 10)\n",
        "distortion_l = calculate_distortion(df_original, df_l_diverse)\n",
        "precision_l = calculate_precision(df_original, df_l_diverse, 2)\n",
        "\n",
        "print(f\"K-anonymity\\n Distortion:{distortion_k}\\nPrecision:{precision_k}\\n\\nL-Diversity\\nDistortion:{distortion_l}\\nPrecision:{precision_l}\")"
      ],
      "metadata": {
        "colab": {
          "base_uri": "https://localhost:8080/"
        },
        "id": "nta1rV8vmgX_",
        "outputId": "6ee00e94-81bd-4ded-d22e-5aa0d9b13059"
      },
      "execution_count": null,
      "outputs": [
        {
          "output_type": "stream",
          "name": "stdout",
          "text": [
            "K-anonymity\n",
            " Distortion:nan\n",
            "Precision:0.005248533497993208\n",
            "\n",
            "L-Diversity\n",
            "Distortion:nan\n",
            "Precision:0.005248533497993208\n"
          ]
        }
      ]
    }
  ]
}