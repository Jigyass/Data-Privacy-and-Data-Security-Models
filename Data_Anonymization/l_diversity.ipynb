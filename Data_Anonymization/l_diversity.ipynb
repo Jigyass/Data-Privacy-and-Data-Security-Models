{
  "nbformat": 4,
  "nbformat_minor": 0,
  "metadata": {
    "colab": {
      "provenance": [],
      "mount_file_id": "1C42PLDg8sKgrQXz7gh83YazDkMgxzCSg",
      "authorship_tag": "ABX9TyPUAaFHJmQlpyGb6fvQtscR",
      "include_colab_link": true
    },
    "kernelspec": {
      "name": "python3",
      "display_name": "Python 3"
    },
    "language_info": {
      "name": "python"
    }
  },
  "cells": [
    {
      "cell_type": "markdown",
      "metadata": {
        "id": "view-in-github",
        "colab_type": "text"
      },
      "source": [
        "<a href=\"https://colab.research.google.com/github/Jigyass/Data-Privacy-and-Data-Security-Models/blob/main/l_diversity.ipynb\" target=\"_parent\"><img src=\"https://colab.research.google.com/assets/colab-badge.svg\" alt=\"Open In Colab\"/></a>"
      ]
    },
    {
      "cell_type": "code",
      "execution_count": 1,
      "metadata": {
        "colab": {
          "base_uri": "https://localhost:8080/"
        },
        "id": "yYUYSYdSL2oZ",
        "outputId": "d6445e6f-456c-4f8d-fb22-39989a4492f7"
      },
      "outputs": [
        {
          "output_type": "stream",
          "name": "stdout",
          "text": [
            "Archive:  /content/drive/MyDrive/Data_Privacy_and_Data_Security/adult.zip\n",
            "  inflating: Index                   \n",
            "  inflating: adult.data              \n",
            "  inflating: adult.names             \n",
            "  inflating: adult.test              \n",
            "  inflating: old.adult.names         \n"
          ]
        }
      ],
      "source": [
        "!unzip /content/drive/MyDrive/Data_Privacy_and_Data_Security/adult.zip"
      ]
    },
    {
      "cell_type": "code",
      "source": [
        "import pandas as pd\n",
        "\n",
        "#Read the adult.data file as a pandas dataframe\n",
        "\n",
        "df = pd.read_csv(\"adult.data\")"
      ],
      "metadata": {
        "id": "WLRu4oLbNU6B"
      },
      "execution_count": 3,
      "outputs": []
    },
    {
      "cell_type": "code",
      "source": [
        "df.columns = ['Age', '2', '3', 'Education', '5', 'Marital-Status', 'Occupation', '8', 'Race', '10', '11', '12', '13', '14', '15']"
      ],
      "metadata": {
        "id": "_dbUmxGWNorS"
      },
      "execution_count": 5,
      "outputs": []
    },
    {
      "cell_type": "code",
      "source": [
        "unique_values_occupation = df['Occupation'].unique()\n",
        "print(unique_values_occupation)"
      ],
      "metadata": {
        "colab": {
          "base_uri": "https://localhost:8080/"
        },
        "id": "J75a_LrbOeUT",
        "outputId": "411ac90e-2217-4ee7-e95e-a1976148dbf6"
      },
      "execution_count": 7,
      "outputs": [
        {
          "output_type": "stream",
          "name": "stdout",
          "text": [
            "[' Exec-managerial' ' Handlers-cleaners' ' Prof-specialty'\n",
            " ' Other-service' ' Adm-clerical' ' Sales' ' Craft-repair'\n",
            " ' Transport-moving' ' Farming-fishing' ' Machine-op-inspct'\n",
            " ' Tech-support' ' ?' ' Protective-serv' ' Armed-Forces'\n",
            " ' Priv-house-serv']\n"
          ]
        }
      ]
    },
    {
      "cell_type": "code",
      "source": [
        "def generalize_occupation_level1(occupation):\n",
        "    occupation_mapping = {\n",
        "        ' Exec-managerial': 'Management',\n",
        "        ' Prof-specialty': 'Professional',\n",
        "        ' Other-service': 'Service',\n",
        "        ' Adm-clerical': 'Clerical',\n",
        "        ' Sales': 'Sales',\n",
        "        ' Craft-repair': 'Crafts',\n",
        "        ' Transport-moving': 'Transport',\n",
        "        ' Farming-fishing': 'Farming',\n",
        "        ' Machine-op-inspct': 'Machine Operation',\n",
        "        ' Tech-support': 'Tech Support',\n",
        "        ' ?': 'Unknown',\n",
        "        ' Protective-serv': 'Protective Service',\n",
        "        ' Armed-Forces': 'Armed Forces',\n",
        "        ' Priv-house-serv': 'Private House Service'\n",
        "    }\n",
        "    return occupation_mapping.get(occupation, 'Other')"
      ],
      "metadata": {
        "id": "asBoLB77T97z"
      },
      "execution_count": 8,
      "outputs": []
    },
    {
      "cell_type": "code",
      "source": [
        "def generalize_occupation_level2(occupation):\n",
        "    if occupation in ['Management', 'Professional', 'Clerical', 'Tech Support']:\n",
        "        return 'White-Collar'\n",
        "    elif occupation in ['Service', 'Sales']:\n",
        "        return 'Service and Sales'\n",
        "    elif occupation in ['Crafts', 'Transport', 'Machine Operation', 'Protective Service']:\n",
        "        return 'Skilled Labor'\n",
        "    elif occupation in ['Farming', 'Unknown', 'Armed Forces', 'Private House Service']:\n",
        "        return 'Other and Unknown'\n",
        "    else:\n",
        "        return 'Other'"
      ],
      "metadata": {
        "id": "6zkNxIajUAn1"
      },
      "execution_count": 9,
      "outputs": []
    },
    {
      "cell_type": "code",
      "source": [
        "def generalize_occupation_level3(occupation):\n",
        "    if occupation in ['White-Collar', 'Service and Sales']:\n",
        "        return 'Professional and Service'\n",
        "    else:\n",
        "        return 'Skilled Labor and Other'"
      ],
      "metadata": {
        "id": "9t7aLX7TUHYW"
      },
      "execution_count": 10,
      "outputs": []
    },
    {
      "cell_type": "code",
      "source": [
        "# Define parameters\n",
        "l_value = 1  # Specify the desired l-diversity value\n",
        "quasi_identifiers = ['Age', 'Education', 'Marital-Status', 'Race']  # Specify your quasi-identifiers\n",
        "\n",
        "# Define the generalization levels for the \"occupation\" attribute\n",
        "generalization_levels = {\n",
        "    'level1': generalize_occupation_level1,\n",
        "    'level2': generalize_occupation_level2,\n",
        "    'level3': generalize_occupation_level3\n",
        "}\n",
        "\n",
        "# Function to achieve l-diversity\n",
        "def achieve_ldiversity(df, l_value, quasi_identifiers, generalization_levels):\n",
        "    while True:\n",
        "        all_groups_meet_l_diversity = True\n",
        "\n",
        "        # Group the data by quasi-identifiers\n",
        "        grouped = df.groupby(quasi_identifiers)\n",
        "\n",
        "        for group_key, data_group in grouped:\n",
        "            unique_occupations = data_group['Occupation'].unique()\n",
        "\n",
        "            if len(unique_occupations) < l_value:\n",
        "                all_groups_meet_l_diversity = False\n",
        "\n",
        "                # Find the most specific occupation level that satisfies l-diversity\n",
        "                for level, generalize_func in generalization_levels.items():\n",
        "                    data_group['Occupation'] = data_group['Occupation'].apply(generalize_func)\n",
        "                    unique_occupations = data_group['Occupation'].unique()\n",
        "\n",
        "                    if len(unique_occupations) >= l_value:\n",
        "                        break\n",
        "\n",
        "                # Update the original DataFrame with the anonymized data\n",
        "                df.loc[data_group.index] = data_group\n",
        "\n",
        "        if all_groups_meet_l_diversity:\n",
        "            break\n",
        "\n",
        "    return df\n",
        "\n",
        "\n",
        "# Call the function to achieve l-diversity\n",
        "anonymized_df = achieve_ldiversity(df, l_value, quasi_identifiers, generalization_levels)\n",
        "\n",
        "# You can now save anonymized_df to a new CSV file or use it for further analysis.\n"
      ],
      "metadata": {
        "id": "SZmMZ4iVUieD"
      },
      "execution_count": 14,
      "outputs": []
    }
  ]
}