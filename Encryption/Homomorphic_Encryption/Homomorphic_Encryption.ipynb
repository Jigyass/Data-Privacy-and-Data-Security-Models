{
  "nbformat": 4,
  "nbformat_minor": 0,
  "metadata": {
    "colab": {
      "provenance": [],
      "authorship_tag": "ABX9TyMI5vu93TJd6Irt8hV7MQoR",
      "include_colab_link": true
    },
    "kernelspec": {
      "name": "python3",
      "display_name": "Python 3"
    },
    "language_info": {
      "name": "python"
    }
  },
  "cells": [
    {
      "cell_type": "markdown",
      "metadata": {
        "id": "view-in-github",
        "colab_type": "text"
      },
      "source": [
        "<a href=\"https://colab.research.google.com/github/Jigyass/Data-Privacy-and-Data-Security-Models/blob/main/Encryption/Homomorphic_Encryption/Homomorphic_Encryption.ipynb\" target=\"_parent\"><img src=\"https://colab.research.google.com/assets/colab-badge.svg\" alt=\"Open In Colab\"/></a>"
      ]
    },
    {
      "cell_type": "code",
      "source": [
        "pip install phe"
      ],
      "metadata": {
        "colab": {
          "base_uri": "https://localhost:8080/"
        },
        "id": "Bs2irNrM4CVo",
        "outputId": "8b17ba2a-1298-4e37-db9e-357725a04922"
      },
      "execution_count": 17,
      "outputs": [
        {
          "output_type": "stream",
          "name": "stdout",
          "text": [
            "Requirement already satisfied: phe in /usr/local/lib/python3.10/dist-packages (1.5.0)\n"
          ]
        }
      ]
    },
    {
      "cell_type": "code",
      "source": [
        "#Import libraries\n",
        "import numpy as np\n",
        "from phe import paillier"
      ],
      "metadata": {
        "id": "XCCXyXq52bOP"
      },
      "execution_count": 19,
      "outputs": []
    },
    {
      "cell_type": "code",
      "execution_count": 20,
      "metadata": {
        "id": "Rj7IA_w52PI5"
      },
      "outputs": [],
      "source": [
        "#Question 1\n",
        "#Task (a)\n",
        "#Alice generates random nonnegative integer entries for A while Bob generates random nonnegative integer entries for B."
      ]
    },
    {
      "cell_type": "code",
      "source": [
        "# Alice generates a 5x8 matrix\n",
        "A = np.random.randint(low=0, high=100, size=(5, 8))\n",
        "# Bob generates an 8x4 matrix\n",
        "B = np.random.randint(low=0, high=100, size=(8, 4))\n",
        "print(\"Matrix A (Alice):\")\n",
        "print(A)\n",
        "print(\"\\nMatrix B (Bob):\")\n",
        "print(B)"
      ],
      "metadata": {
        "colab": {
          "base_uri": "https://localhost:8080/"
        },
        "id": "JYmuFgSD2VJo",
        "outputId": "addfbca7-f45f-4075-c1d1-f048ec66b448"
      },
      "execution_count": 21,
      "outputs": [
        {
          "output_type": "stream",
          "name": "stdout",
          "text": [
            "Matrix A (Alice):\n",
            "[[ 9 49 53 77 77 17 98 13]\n",
            " [89 49 76 95 79 15 83  0]\n",
            " [87 56 53 16 29 68 11 92]\n",
            " [63 27 82 57 89 68 17 60]\n",
            " [ 8 40 63 83 41 30 89 25]]\n",
            "\n",
            "Matrix B (Bob):\n",
            "[[30 34  0 11]\n",
            " [36 37 11 10]\n",
            " [84 11 88 20]\n",
            " [84 70  7 59]\n",
            " [39 73 94 97]\n",
            " [53 89 52 55]\n",
            " [41  1 94 91]\n",
            " [24 64 46 39]]\n"
          ]
        }
      ]
    },
    {
      "cell_type": "code",
      "source": [
        "#Task (b)\n",
        "\n",
        "# Generate Paillier keypair this keypair is generated for Alice and will be used by Bob\n",
        "public_key, private_key = paillier.generate_paillier_keypair()"
      ],
      "metadata": {
        "id": "3shuloff26SQ"
      },
      "execution_count": 22,
      "outputs": []
    },
    {
      "cell_type": "code",
      "source": [
        "# Assuming Bob has Alice's public key (public_key) and his matrix B\n",
        "\n",
        "# Encrypting each element of matrix B\n",
        "encrypted_B = np.array([[public_key.encrypt(int(b)) for b in row] for row in B])\n",
        "\n",
        "print(\"Encrypted Matrix B:\")\n",
        "print(encrypted_B)"
      ],
      "metadata": {
        "colab": {
          "base_uri": "https://localhost:8080/"
        },
        "id": "BWgMfP4R6ETQ",
        "outputId": "4208c36a-f62b-467b-d7c3-72d837f2332f"
      },
      "execution_count": 24,
      "outputs": [
        {
          "output_type": "stream",
          "name": "stdout",
          "text": [
            "Encrypted Matrix B:\n",
            "[[<phe.paillier.EncryptedNumber object at 0x7d036b8259c0>\n",
            "  <phe.paillier.EncryptedNumber object at 0x7d036b901a80>\n",
            "  <phe.paillier.EncryptedNumber object at 0x7d03a01a70d0>\n",
            "  <phe.paillier.EncryptedNumber object at 0x7d03a01a77f0>]\n",
            " [<phe.paillier.EncryptedNumber object at 0x7d036b900f70>\n",
            "  <phe.paillier.EncryptedNumber object at 0x7d03a103f670>\n",
            "  <phe.paillier.EncryptedNumber object at 0x7d036b9026b0>\n",
            "  <phe.paillier.EncryptedNumber object at 0x7d036b825b40>]\n",
            " [<phe.paillier.EncryptedNumber object at 0x7d036b824520>\n",
            "  <phe.paillier.EncryptedNumber object at 0x7d036b825210>\n",
            "  <phe.paillier.EncryptedNumber object at 0x7d036b824910>\n",
            "  <phe.paillier.EncryptedNumber object at 0x7d036b824940>]\n",
            " [<phe.paillier.EncryptedNumber object at 0x7d036b8253c0>\n",
            "  <phe.paillier.EncryptedNumber object at 0x7d03a01a7f10>\n",
            "  <phe.paillier.EncryptedNumber object at 0x7d036b825540>\n",
            "  <phe.paillier.EncryptedNumber object at 0x7d036b824970>]\n",
            " [<phe.paillier.EncryptedNumber object at 0x7d036b825570>\n",
            "  <phe.paillier.EncryptedNumber object at 0x7d036b824130>\n",
            "  <phe.paillier.EncryptedNumber object at 0x7d036b824ee0>\n",
            "  <phe.paillier.EncryptedNumber object at 0x7d036b8265f0>]\n",
            " [<phe.paillier.EncryptedNumber object at 0x7d036b824190>\n",
            "  <phe.paillier.EncryptedNumber object at 0x7d036b825d80>\n",
            "  <phe.paillier.EncryptedNumber object at 0x7d036b824d60>\n",
            "  <phe.paillier.EncryptedNumber object at 0x7d036b826530>]\n",
            " [<phe.paillier.EncryptedNumber object at 0x7d036b8243d0>\n",
            "  <phe.paillier.EncryptedNumber object at 0x7d036b826560>\n",
            "  <phe.paillier.EncryptedNumber object at 0x7d036b824eb0>\n",
            "  <phe.paillier.EncryptedNumber object at 0x7d036b825330>]\n",
            " [<phe.paillier.EncryptedNumber object at 0x7d036b825090>\n",
            "  <phe.paillier.EncryptedNumber object at 0x7d036b8244c0>\n",
            "  <phe.paillier.EncryptedNumber object at 0x7d036b824e20>\n",
            "  <phe.paillier.EncryptedNumber object at 0x7d036b825b10>]]\n"
          ]
        }
      ]
    },
    {
      "cell_type": "code",
      "source": [
        "# Perform the encrypted matrix multiplication\n",
        "C = np.empty([5, 4], dtype=object)  # Initialize an empty matrix for the result\n",
        "\n",
        "for i in range(5):  # Iterate over rows of A\n",
        "    for j in range(4):  # Iterate over columns of encrypted_B\n",
        "        sum = public_key.encrypt(0)  # Start with an encrypted 0\n",
        "        for k in range(8):  # Iterate over the elements in the row/column pair\n",
        "            # Convert A[i][k] to a standard Python integer and then perform scalar multiplication\n",
        "            product = encrypted_B[k][j] * int(A[i][k])  # Scalar multiplication\n",
        "            sum = sum + product  # Homomorphic addition\n",
        "        C[i][j] = sum\n",
        "\n",
        "# C now contains the encrypted result of A x B\n",
        "\n"
      ],
      "metadata": {
        "id": "NH9Ai8eK7b57"
      },
      "execution_count": 31,
      "outputs": []
    },
    {
      "cell_type": "code",
      "source": [
        "# Decrypting the result matrix C\n",
        "decrypted_C = np.zeros([5, 4])  # Initialize an empty matrix for the decrypted result\n",
        "\n",
        "for i in range(5):\n",
        "    for j in range(4):\n",
        "        decrypted_C[i][j] = private_key.decrypt(C[i][j])\n",
        "\n",
        "print(\"Decrypted Matrix (Product of A and B):\")\n",
        "print(decrypted_C)\n",
        "# Performing normal matrix multiplication of A and B\n",
        "normal_product = np.dot(A, B)\n",
        "print(\"Multiplication Values without Encryption\")\n",
        "print(normal_product)"
      ],
      "metadata": {
        "colab": {
          "base_uri": "https://localhost:8080/"
        },
        "id": "5_L3R1ZO-FLM",
        "outputId": "45b50d38-5eb1-4438-9519-54afe2b21203"
      },
      "execution_count": 34,
      "outputs": [
        {
          "output_type": "stream",
          "name": "stdout",
          "text": [
            "Decrypted Matrix (Product of A and B):\n",
            "[[21188. 16156. 23674. 24021.]\n",
            " [26077. 19510. 23900. 24635.]\n",
            " [17816. 20801. 16920. 14663.]\n",
            " [23750. 24439. 24172. 22226.]\n",
            " [21382. 15607. 21495. 21346.]]\n",
            "Multiplication Values without Encryption\n",
            "[[21188 16156 23674 24021]\n",
            " [26077 19510 23900 24635]\n",
            " [17816 20801 16920 14663]\n",
            " [23750 24439 24172 22226]\n",
            " [21382 15607 21495 21346]]\n"
          ]
        }
      ]
    }
  ]
}