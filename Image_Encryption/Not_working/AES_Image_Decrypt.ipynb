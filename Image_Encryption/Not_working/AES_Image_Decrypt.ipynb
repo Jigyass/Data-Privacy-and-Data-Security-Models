{
  "nbformat": 4,
  "nbformat_minor": 0,
  "metadata": {
    "colab": {
      "provenance": [],
      "authorship_tag": "ABX9TyPgwRzfgt8AvYqR3M3n3a50",
      "include_colab_link": true
    },
    "kernelspec": {
      "name": "python3",
      "display_name": "Python 3"
    },
    "language_info": {
      "name": "python"
    }
  },
  "cells": [
    {
      "cell_type": "markdown",
      "metadata": {
        "id": "view-in-github",
        "colab_type": "text"
      },
      "source": [
        "<a href=\"https://colab.research.google.com/github/Jigyass/Data-Privacy-and-Data-Security-Models/blob/main/Image_Encryption/AES_Image_Decrypt.ipynb\" target=\"_parent\"><img src=\"https://colab.research.google.com/assets/colab-badge.svg\" alt=\"Open In Colab\"/></a>"
      ]
    },
    {
      "cell_type": "code",
      "source": [
        "pip install pycryptodome"
      ],
      "metadata": {
        "colab": {
          "base_uri": "https://localhost:8080/"
        },
        "id": "wa53ISIFKMXN",
        "outputId": "b0eff25d-d0f0-4ab1-aa0e-b6461adda2a7"
      },
      "execution_count": 2,
      "outputs": [
        {
          "output_type": "stream",
          "name": "stdout",
          "text": [
            "Collecting pycryptodome\n",
            "  Downloading pycryptodome-3.19.0-cp35-abi3-manylinux_2_17_x86_64.manylinux2014_x86_64.whl (2.1 MB)\n",
            "\u001b[2K     \u001b[90m━━━━━━━━━━━━━━━━━━━━━━━━━━━━━━━━━━━━━━━━\u001b[0m \u001b[32m2.1/2.1 MB\u001b[0m \u001b[31m11.2 MB/s\u001b[0m eta \u001b[36m0:00:00\u001b[0m\n",
            "\u001b[?25hInstalling collected packages: pycryptodome\n",
            "Successfully installed pycryptodome-3.19.0\n"
          ]
        }
      ]
    },
    {
      "cell_type": "code",
      "execution_count": 3,
      "metadata": {
        "id": "blYM4yXOJ-Wt"
      },
      "outputs": [],
      "source": [
        "from Crypto.Cipher import AES"
      ]
    },
    {
      "cell_type": "code",
      "source": [
        "with open('key.bin', 'rb') as key_file:\n",
        "    key = key_file.read()\n",
        "with open('iv.bin', 'rb') as iv_file:\n",
        "    iv = iv_file.read()"
      ],
      "metadata": {
        "id": "lVScOetdKWGs"
      },
      "execution_count": 4,
      "outputs": []
    },
    {
      "cell_type": "code",
      "source": [
        "cipher = AES.new(key, AES.MODE_CBC, iv)\n",
        "decrypted_data = cipher.decrypt(encrypted_data)"
      ],
      "metadata": {
        "id": "J9aNve9cKZSB"
      },
      "execution_count": null,
      "outputs": []
    }
  ]
}