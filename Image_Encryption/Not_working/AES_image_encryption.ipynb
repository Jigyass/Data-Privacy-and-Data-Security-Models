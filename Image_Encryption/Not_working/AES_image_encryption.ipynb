{
  "cells": [
    {
      "cell_type": "markdown",
      "metadata": {
        "id": "view-in-github",
        "colab_type": "text"
      },
      "source": [
        "<a href=\"https://colab.research.google.com/github/Jigyass/Data-Privacy-and-Data-Security-Models/blob/main/Image_Encryption/AES_image_encryption.ipynb\" target=\"_parent\"><img src=\"https://colab.research.google.com/assets/colab-badge.svg\" alt=\"Open In Colab\"/></a>"
      ]
    },
    {
      "cell_type": "code",
      "source": [
        "pip install pycryptodome"
      ],
      "metadata": {
        "colab": {
          "base_uri": "https://localhost:8080/"
        },
        "id": "U4_2cc00I5aH",
        "outputId": "2b439102-55be-4f1c-94d2-20175e11c4a7"
      },
      "execution_count": 32,
      "outputs": [
        {
          "output_type": "stream",
          "name": "stdout",
          "text": [
            "Requirement already satisfied: pycryptodome in /usr/local/lib/python3.10/dist-packages (3.19.0)\n"
          ]
        }
      ]
    },
    {
      "cell_type": "code",
      "source": [
        "from google.colab import drive\n",
        "drive.mount('/content/drive')"
      ],
      "metadata": {
        "colab": {
          "base_uri": "https://localhost:8080/"
        },
        "id": "B1IfSZqDMrQ-",
        "outputId": "5279ae2b-9f68-469a-d6ff-a067d80df892"
      },
      "execution_count": 42,
      "outputs": [
        {
          "output_type": "stream",
          "name": "stdout",
          "text": [
            "Drive already mounted at /content/drive; to attempt to forcibly remount, call drive.mount(\"/content/drive\", force_remount=True).\n"
          ]
        }
      ]
    },
    {
      "cell_type": "code",
      "execution_count": 33,
      "metadata": {
        "id": "Wh4sgtdkEoI4"
      },
      "outputs": [],
      "source": [
        "#Libraries to import\n",
        "import cv2\n",
        "import numpy as np\n",
        "from google.colab.patches import cv2_imshow\n",
        "from Crypto.Cipher import AES\n",
        "from Crypto.Random import get_random_bytes"
      ]
    },
    {
      "cell_type": "code",
      "execution_count": 34,
      "metadata": {
        "colab": {
          "base_uri": "https://localhost:8080/"
        },
        "id": "Gn9hfvxrE0FE",
        "outputId": "42380012-15bf-4c92-fe98-34fe2befdbc5"
      },
      "outputs": [
        {
          "output_type": "stream",
          "name": "stdout",
          "text": [
            "Image loaded successfully\n"
          ]
        }
      ],
      "source": [
        "#image_path=input(\"Enter path to image:\")\n",
        "image_path = '/content/drive/MyDrive/Data_Privacy_and_Data_Security/A1SizePorsche911GT3RS.jpg'\n",
        "image = cv2.imread(image_path)\n",
        "if image is None:\n",
        "    print(\"Error: Image not found. Please check the file path.\")\n",
        "else:\n",
        "    print(\"Image loaded successfully\")"
      ]
    },
    {
      "cell_type": "code",
      "execution_count": 35,
      "metadata": {
        "id": "fSpzbss2GCwr"
      },
      "outputs": [],
      "source": [
        "#Convert image to encryptable format\n",
        "flattened_image = image.flatten()\n",
        "image_bytes = image.tobytes()\n",
        "#save original shape and color channels\n",
        "original_shape = image.shape"
      ]
    },
    {
      "cell_type": "code",
      "execution_count": 36,
      "metadata": {
        "id": "ogU6YLLzGhwt"
      },
      "outputs": [],
      "source": [
        "reconstructed_array = np.frombuffer(image_bytes, dtype=np.uint8).reshape(original_shape)\n"
      ]
    },
    {
      "cell_type": "code",
      "execution_count": 37,
      "metadata": {
        "id": "76vraLZ4Gqnd"
      },
      "outputs": [],
      "source": [
        "#cv2_imshow(reconstructed_array)"
      ]
    },
    {
      "cell_type": "code",
      "source": [
        "#Function to pad data\n",
        "def pad(data):\n",
        "    return data + b\"\\0\" * (AES.block_size - len(data) % AES.block_size)"
      ],
      "metadata": {
        "id": "m7IyhCQXIqLZ"
      },
      "execution_count": 38,
      "outputs": []
    },
    {
      "cell_type": "code",
      "source": [
        "key = get_random_bytes(16)  # AES key should be 16, 24, or 32 bytes long\n",
        "iv = get_random_bytes(AES.block_size)  # Initialization vector\n",
        "cipher = AES.new(key, AES.MODE_CBC, iv)\n",
        "padded_data = pad(image_bytes)\n",
        "encrypted_data = cipher.encrypt(padded_data)"
      ],
      "metadata": {
        "id": "7zJSlBSeJW1V"
      },
      "execution_count": 39,
      "outputs": []
    },
    {
      "cell_type": "code",
      "source": [
        "# You can write these to a file or store them as per your requirement\n",
        "with open('key.bin', 'wb') as key_file:\n",
        "    key_file.write(key)\n",
        "with open('iv.bin', 'wb') as iv_file:\n",
        "    iv_file.write(iv)"
      ],
      "metadata": {
        "id": "Togff4_6Jdea"
      },
      "execution_count": 40,
      "outputs": []
    },
    {
      "cell_type": "code",
      "source": [
        "# Save encrypted data\n",
        "with open('encrypted_data.bin', 'wb') as encrypted_file:\n",
        "    encrypted_file.write(encrypted_data)\n",
        "\n",
        "# Save original image shape\n",
        "# It's a simple tuple, so you can save it as text\n",
        "with open('image_shape.txt', 'w') as shape_file:\n",
        "    shape_file.write(','.join(map(str, original_shape)))"
      ],
      "metadata": {
        "id": "Fk9W9GpvLRAN"
      },
      "execution_count": 41,
      "outputs": []
    },
    {
      "cell_type": "code",
      "source": [
        "path_to_drive = '/content/drive/MyDrive/Data_Privacy_and_Data_Security'\n",
        "with open(path_to_drive + 'encrypted_data.bin', 'wb') as encrypted_file:\n",
        "    encrypted_file.write(encrypted_data)"
      ],
      "metadata": {
        "id": "8umXshdnMzSc"
      },
      "execution_count": 44,
      "outputs": []
    }
  ],
  "metadata": {
    "colab": {
      "provenance": [],
      "mount_file_id": "1Attj2cW4eCpXr0PNla5yVIc0VZlaZrSl",
      "authorship_tag": "ABX9TyNivYLrPzNnGV3BqHaNJf1k",
      "include_colab_link": true
    },
    "kernelspec": {
      "display_name": "Python 3",
      "name": "python3"
    },
    "language_info": {
      "name": "python"
    }
  },
  "nbformat": 4,
  "nbformat_minor": 0
}