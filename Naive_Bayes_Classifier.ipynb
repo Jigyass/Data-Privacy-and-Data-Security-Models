{
  "nbformat": 4,
  "nbformat_minor": 0,
  "metadata": {
    "colab": {
      "provenance": [],
      "mount_file_id": "1XvdGnxAWMC1LP39niIgiqP8HrmSrPPjC",
      "authorship_tag": "ABX9TyNASoFYt4XG1WSm7fQWCBaS",
      "include_colab_link": true
    },
    "kernelspec": {
      "name": "python3",
      "display_name": "Python 3"
    },
    "language_info": {
      "name": "python"
    }
  },
  "cells": [
    {
      "cell_type": "markdown",
      "metadata": {
        "id": "view-in-github",
        "colab_type": "text"
      },
      "source": [
        "<a href=\"https://colab.research.google.com/github/Jigyass/Data-Privacy-and-Data-Security-Models/blob/main/Naive_Bayes_Classifier.ipynb\" target=\"_parent\"><img src=\"https://colab.research.google.com/assets/colab-badge.svg\" alt=\"Open In Colab\"/></a>"
      ]
    },
    {
      "cell_type": "code",
      "execution_count": 1,
      "metadata": {
        "colab": {
          "base_uri": "https://localhost:8080/"
        },
        "id": "EjOu_7DV-NKD",
        "outputId": "1a4a2a74-af02-4c1a-fe73-faf15719c11d"
      },
      "outputs": [
        {
          "output_type": "stream",
          "name": "stdout",
          "text": [
            "Archive:  /content/drive/MyDrive/Data_Privacy_and_Data_Security/iris.zip\n",
            "  inflating: Index                   \n",
            "  inflating: bezdekIris.data         \n",
            "  inflating: iris.data               \n",
            "  inflating: iris.names              \n"
          ]
        }
      ],
      "source": [
        "!unzip /content/drive/MyDrive/Data_Privacy_and_Data_Security/iris.zip"
      ]
    },
    {
      "cell_type": "code",
      "source": [
        "import pandas as pd\n",
        "import numpy as np\n",
        "from sklearn.model_selection import train_test_split\n",
        "from sklearn.naive_bayes import GaussianNB\n",
        "from sklearn.metrics import accuracy_score\n",
        "from scipy.stats import norm\n",
        "from sklearn.metrics import precision_score, recall_score"
      ],
      "metadata": {
        "id": "quzAghyuAQfk"
      },
      "execution_count": 13,
      "outputs": []
    },
    {
      "cell_type": "code",
      "source": [
        "# Load the dataset\n",
        "df = pd.read_csv('iris.data', header=None)\n",
        "df.columns = ['sepal_length', 'sepal_width', 'petal_length', 'petal_width', 'class']"
      ],
      "metadata": {
        "id": "n-VYnx4ZATUm"
      },
      "execution_count": 3,
      "outputs": []
    },
    {
      "cell_type": "code",
      "source": [
        "# Select specified records for testing\n",
        "test_indices = [i-1 for i in range(1, 11)] + [i-1 for i in range(51, 61)] + [i-1 for i in range(101, 111)]\n",
        "test_data = df.iloc[test_indices]\n",
        "\n",
        "# Select remaining records for training\n",
        "train_data = df.drop(test_indices)\n",
        "\n",
        "# Separate features and labels\n",
        "X_train = train_data.drop('class', axis=1)\n",
        "y_train = train_data['class']\n",
        "X_test = test_data.drop('class', axis=1)\n",
        "y_test = test_data['class']"
      ],
      "metadata": {
        "id": "WU710rqbAWTe"
      },
      "execution_count": 4,
      "outputs": []
    },
    {
      "cell_type": "code",
      "source": [
        "class NaiveBayes:\n",
        "    def __init__(self):\n",
        "        self.model = None\n",
        "\n",
        "    def train(self, X, y):\n",
        "        self.model = {}\n",
        "        self.classes = np.unique(y)\n",
        "        for c in self.classes:\n",
        "            # Compute the mean and standard deviation for each feature per class\n",
        "            self.model[c] = {}\n",
        "            class_data = X[y == c]\n",
        "            self.model[c]['mean'] = np.mean(class_data, axis=0)\n",
        "            self.model[c]['std'] = np.std(class_data, axis=0)\n",
        "\n",
        "    def predict(self, X):\n",
        "        preds = []\n",
        "        for sample in X:\n",
        "            posterior_probs = {}\n",
        "            for c in self.classes:\n",
        "                prior = 1 / len(self.classes)\n",
        "                likelihood = np.prod(norm.pdf(sample, self.model[c]['mean'], self.model[c]['std']))\n",
        "                posterior = prior * likelihood\n",
        "                posterior_probs[c] = posterior\n",
        "\n",
        "            # Pick the class with the highest posterior probability\n",
        "            pred = max(posterior_probs, key=posterior_probs.get)\n",
        "            preds.append(pred)\n",
        "\n",
        "        return np.array(preds)\n",
        "\n",
        "# Initialize and train the Naive Bayes Classifier\n",
        "nb = NaiveBayes()\n",
        "nb.train(X_train.to_numpy(), y_train.to_numpy())\n",
        "\n",
        "# Perform predictions\n",
        "y_pred = nb.predict(X_test.to_numpy())\n",
        "\n",
        "# Calculate accuracy\n",
        "accuracy = np.mean(y_pred == y_test.to_numpy())\n",
        "print(f\"Accuracy: {accuracy * 100:.2f}%\")"
      ],
      "metadata": {
        "colab": {
          "base_uri": "https://localhost:8080/"
        },
        "id": "H28MKe5nAkxG",
        "outputId": "8edf85b0-9a00-4d4d-d474-54edd47e47e4"
      },
      "execution_count": 10,
      "outputs": [
        {
          "output_type": "stream",
          "name": "stdout",
          "text": [
            "Accuracy: 93.33%\n"
          ]
        }
      ]
    },
    {
      "cell_type": "code",
      "source": [
        "def laplace_mechanism(x, epsilon):\n",
        "    b = 1.0  # sensitivity\n",
        "    return x + np.random.laplace(0, b / epsilon)\n",
        "\n",
        "class DifferentiallyPrivateNaiveBayes(NaiveBayes):\n",
        "    def __init__(self, epsilon):\n",
        "        super().__init__()\n",
        "        self.epsilon = epsilon / 2  # divide by 2 to allocate half for mean and half for std\n",
        "\n",
        "    def train(self, X, y):\n",
        "        self.model = {}\n",
        "        self.classes = np.unique(y)\n",
        "        for c in self.classes:\n",
        "            self.model[c] = {}\n",
        "            class_data = X[y == c]\n",
        "            # Adding Laplace noise to mean and std\n",
        "            self.model[c]['mean'] = laplace_mechanism(np.mean(class_data, axis=0), self.epsilon)\n",
        "            self.model[c]['std'] = laplace_mechanism(np.std(class_data, axis=0), self.epsilon)"
      ],
      "metadata": {
        "id": "I6tVx6_CEH6w"
      },
      "execution_count": 11,
      "outputs": []
    },
    {
      "cell_type": "code",
      "source": [
        "# Initialize and train the Differentially Private Naive Bayes Classifier\n",
        "epsilon = 1.0  # feel free to change this\n",
        "dp_nb = DifferentiallyPrivateNaiveBayes(epsilon)\n",
        "dp_nb.train(X_train.to_numpy(), y_train.to_numpy())\n",
        "\n",
        "# Perform predictions\n",
        "y_pred_dp = dp_nb.predict(X_test.to_numpy())\n",
        "\n",
        "# Calculate accuracy\n",
        "accuracy_dp = np.mean(y_pred_dp == y_test.to_numpy())\n",
        "print(f\"Differentially Private Accuracy: {accuracy_dp * 100:.2f}%\")"
      ],
      "metadata": {
        "colab": {
          "base_uri": "https://localhost:8080/"
        },
        "id": "mbZAeVvUEZLE",
        "outputId": "6cfd2868-f965-40ca-d5b7-336b57172c06"
      },
      "execution_count": 12,
      "outputs": [
        {
          "output_type": "stream",
          "name": "stdout",
          "text": [
            "Differentially Private Accuracy: 33.33%\n"
          ]
        }
      ]
    },
    {
      "cell_type": "code",
      "source": [
        "# Define different epsilon values\n",
        "epsilon_values = [0.5, 1, 2, 4, 8, 16]"
      ],
      "metadata": {
        "id": "h6xuVs8_F0m8"
      },
      "execution_count": 16,
      "outputs": []
    },
    {
      "cell_type": "code",
      "source": [
        "# Loop through each epsilon value to train the model and evaluate\n",
        "for epsilon in epsilon_values:\n",
        "    dp_nb = DifferentiallyPrivateNaiveBayes(epsilon)\n",
        "    dp_nb.train(X_train.to_numpy(), y_train.to_numpy())\n",
        "\n",
        "    y_pred_dp = dp_nb.predict(X_test.to_numpy())\n",
        "\n",
        "    # Added zero_division=1 parameter\n",
        "    precision = precision_score(y_test, y_pred_dp, average='macro', zero_division=1)\n",
        "    recall = recall_score(y_test, y_pred_dp, average='macro', zero_division=1)\n",
        "\n",
        "    print(f\"Epsilon: {epsilon}, Precision: {precision * 100:.2f}%, Recall: {recall * 100:.2f}%\")"
      ],
      "metadata": {
        "colab": {
          "base_uri": "https://localhost:8080/"
        },
        "id": "Bx-95DL8FVoF",
        "outputId": "810d7245-8cbf-4d09-e378-321885c3a46a"
      },
      "execution_count": 17,
      "outputs": [
        {
          "output_type": "stream",
          "name": "stdout",
          "text": [
            "Epsilon: 0.5, Precision: 77.78%, Recall: 33.33%\n",
            "Epsilon: 1, Precision: 77.78%, Recall: 33.33%\n",
            "Epsilon: 2, Precision: 77.78%, Recall: 33.33%\n",
            "Epsilon: 4, Precision: 77.78%, Recall: 33.33%\n",
            "Epsilon: 8, Precision: 83.33%, Recall: 66.67%\n",
            "Epsilon: 16, Precision: 93.33%, Recall: 93.33%\n"
          ]
        }
      ]
    }
  ]
}